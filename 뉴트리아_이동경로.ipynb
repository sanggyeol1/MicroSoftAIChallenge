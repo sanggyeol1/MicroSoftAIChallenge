{
  "nbformat": 4,
  "nbformat_minor": 0,
  "metadata": {
    "colab": {
      "provenance": []
    },
    "kernelspec": {
      "name": "python3",
      "display_name": "Python 3"
    },
    "language_info": {
      "name": "python"
    }
  },
  "cells": [
    {
      "cell_type": "code",
      "execution_count": null,
      "metadata": {
        "id": "RYgDzaMOzz-5"
      },
      "outputs": [],
      "source": [
        "import folium\n",
        "import pandas as pd\n",
        "!pip install folium\n",
        "\n",
        "# 파일 읽어오기\n",
        "df = pd.read_excel('/content/drive/MyDrive/Colab Notebooks/data/이동경로.xlsx')\n",
        "\n",
        "# 지도 생성\n",
        "m = folium.Map(location=[37.5,127], zoom_start=8)\n",
        "\n",
        "# FeatureGroup 객체 생성\n",
        "fg = folium.FeatureGroup(name='Data')\n",
        "\n",
        "# Marker 객체와 Popup 객체 생성\n",
        "for index, row in df.iterrows():\n",
        "    marker = folium.Marker(location=[row['latitude'], row['longitude']])\n",
        "    popup = folium.Popup(f'<p><strong>{row[\"trip\"]}</strong></p><p>{row[\"name\"]}</p>', max_width = 500)\n",
        "    marker.add_child(popup)\n",
        "    fg.add_child(marker)\n",
        "\n",
        "m.add_child(fg)\n",
        "folium.LayerControl().add_to(m)\n",
        "m.save('data_map.html')"
      ]
    }
  ]
}